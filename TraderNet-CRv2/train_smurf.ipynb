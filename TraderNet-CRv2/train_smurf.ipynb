version https://git-lfs.github.com/spec/v1
oid sha256:acd89d09106105f3e454c44bcfe5b25415a21b8f5df4710106d4c0e86c6f5024
size 77947
