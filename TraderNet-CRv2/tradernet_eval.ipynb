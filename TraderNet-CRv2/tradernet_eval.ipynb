version https://git-lfs.github.com/spec/v1
oid sha256:ca29d904f57b713eee6b43761fe4fcea29a95255007d979db442cd7433a4cf1b
size 1357237
