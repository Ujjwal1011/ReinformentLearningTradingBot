version https://git-lfs.github.com/spec/v1
oid sha256:b06c3d918ba14ec9298ea052cd64c3c904c643a85b4191cf80c9d2297af65d35
size 1356913
